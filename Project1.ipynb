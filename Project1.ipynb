{
 "cells": [
  {
   "cell_type": "markdown",
   "metadata": {},
   "source": [
    "# 1. Create Tables"
   ]
  },
  {
   "cell_type": "markdown",
   "metadata": {},
   "source": [
    "## 1.1 Write `'CREATE'` statements - in `sql_queries.py` to create each table\n",
    "## 1.2 WRite `'DROP'` statements in `sql_queries.py` to drop each table if it exists\n",
    "## 1.3 Run `create_tables.py` to create your database and tables\n",
    "## 1.4 Run `test.ipynb` to confirm the creation of your tables with the correct columns\n",
    "***"
   ]
  },
  {
   "cell_type": "markdown",
   "metadata": {},
   "source": [
    "# 2. Build ETL Processes\n",
    "## 2.1 Follow instructions in `etl.ipynb` to develop ETL processes for each table\n",
    "## 2.2 Run `test.ipynb` at the end of each section - confirm the records were successfully inserted\n",
    "## 2.3 Re-run `create_tables.py` to reset tables before I run this notebook\n",
    "***"
   ]
  },
  {
   "cell_type": "markdown",
   "metadata": {},
   "source": [
    "# 3. Build ETL Pipeline\n",
    "## 3.1 Use etl.ipynb skills to complete `etl.py` - process the entire datasets\n",
    "## 3.2 Run `create_tables.py` before running `etl.py` to reset tables\n",
    "## 3.3 Run `test.ipynb` to confirm your records were successfully inserted\n",
    "***"
   ]
  },
  {
   "cell_type": "markdown",
   "metadata": {},
   "source": [
    "# 4. Document the Process - Follow steps in `README.md`\n",
    "## 4.1 Discuss the purpose of this database in the context of the startup, Sparkify, and their analytical goals\n",
    "## 4.2 STate and justify your database schema design and ETL pipeline\n",
    "## 4.3 (Optional) Provide example queries and results for song play analysis"
   ]
  }
 ],
 "metadata": {
  "language_info": {
   "name": "python"
  },
  "orig_nbformat": 4
 },
 "nbformat": 4,
 "nbformat_minor": 2
}
